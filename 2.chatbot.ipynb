{
 "cells": [
  {
   "cell_type": "code",
   "execution_count": 1,
   "id": "fe55325a",
   "metadata": {},
   "outputs": [],
   "source": [
    "from typing_extensions import TypedDict\n",
    "from langgraph.graph import StateGraph,START,END\n",
    "\n",
    "## Reducers \n",
    "from typing import Annotated\n",
    "from langgraph.graph.message import add_messages\n"
   ]
  },
  {
   "cell_type": "code",
   "execution_count": 2,
   "id": "e9ec5e2d",
   "metadata": {},
   "outputs": [],
   "source": [
    "class State(TypedDict):\n",
    "    messages:Annotated[list,add_messages]"
   ]
  },
  {
   "cell_type": "code",
   "execution_count": 3,
   "id": "126e58b9",
   "metadata": {},
   "outputs": [],
   "source": [
    "import os\n",
    "from dotenv import load_dotenv\n",
    "load_dotenv()\n",
    "\n",
    "os.environ[\"OPENAI_API_KEY\"] = os.getenv(\"OPENAI_API_KEY\")\n",
    "os.environ[\"GROQ_API_KEY\"] = os.getenv(\"GROQ_API_KEY\")\n"
   ]
  },
  {
   "cell_type": "code",
   "execution_count": 7,
   "id": "32337175",
   "metadata": {},
   "outputs": [
    {
     "data": {
      "text/plain": [
       "AIMessage(content='The capital of France is Paris. Known as \"The City of Light,\" Paris is renowned for its history, culture, art, and architecture. It is home to some of the world\\'s most famous landmarks, such as the Eiffel Tower, the Notre-Dame Cathedral, and the Louvre Museum, which houses thousands of works of art, including the Mona Lisa.\\n\\nParis is a major center for fashion, gastronomy, and commerce. The city\\'s influence on art and culture is substantial, having been a hub for artists, intellectuals, and writers throughout history. Some of the great artists, such as Pablo Picasso and Claude Monet, worked and lived in Paris.\\n\\nThe city is also famous for its charming cafes and vibrant street life. With avenues like the Champs-Élysées and districts like Montmartre, Paris offers a rich urban experience. The River Seine runs through the city, providing scenic views and river cruises.\\n\\nAdditionally, Paris plays an important role politically, being the center of French government and a significant player in international diplomacy. It is also a key location for various international organizations and conferences.\\n\\nOverall, Paris is a city that combines historical beauty with a modern, dynamic lifestyle.', additional_kwargs={'refusal': None}, response_metadata={'token_usage': {'completion_tokens': 234, 'prompt_tokens': 21, 'total_tokens': 255, 'completion_tokens_details': {'accepted_prediction_tokens': 0, 'audio_tokens': 0, 'reasoning_tokens': 0, 'rejected_prediction_tokens': 0}, 'prompt_tokens_details': {'audio_tokens': 0, 'cached_tokens': 0}}, 'model_name': 'gpt-4o-2024-08-06', 'system_fingerprint': 'fp_a288987b44', 'finish_reason': 'stop', 'logprobs': None}, id='run-d45bf5db-0795-4ed3-8871-3d782309ab9d-0', usage_metadata={'input_tokens': 21, 'output_tokens': 234, 'total_tokens': 255, 'input_token_details': {'audio': 0, 'cache_read': 0}, 'output_token_details': {'audio': 0, 'reasoning': 0}})"
      ]
     },
     "execution_count": 7,
     "metadata": {},
     "output_type": "execute_result"
    }
   ],
   "source": [
    "from langchain_openai import ChatOpenAI\n",
    "from langchain_groq import ChatGroq\n",
    "llm=ChatOpenAI(model=\"gpt-4o\",temperature=1)\n",
    "llm_groq=ChatGroq(model=\"llama3-8b-8192\",temperature=1)\n",
    "llm.invoke(\"What is the capital of France? and what do you know about it\")"
   ]
  },
  {
   "cell_type": "code",
   "execution_count": 8,
   "id": "dacdaf18",
   "metadata": {},
   "outputs": [],
   "source": [
    "### We will start with creating our nodes \n",
    "def superbot(state:State):\n",
    "    return {\"messages\":[llm_groq.invoke(state['messages'])]}\n",
    "\n",
    "\n",
    "### Now we will create our graph "
   ]
  },
  {
   "cell_type": "code",
   "execution_count": null,
   "id": "402c5691",
   "metadata": {},
   "outputs": [
    {
     "data": {
      "image/png": "[encoded data removed]",
      "text/plain": [
       "<IPython.core.display.Image object>"
      ]
     },
     "metadata": {},
     "output_type": "display_data"
    }
   ],
   "source": [
    "from IPython.display import Image,display\n",
    "from langgraph.graph import StateGraph,START,END\n",
    "from typing_extensions import TypedDict\n",
    "\n",
    "graph=StateGraph(State)\n",
    "graph.add_node(\"superbot\",superbot)\n",
    "graph.add_edge(START,\"superbot\")\n",
    "graph.add_edge(\"superbot\",END)\n",
    "\n",
    "compiled_graph=graph.compile()\n",
    "display(Image(compiled_graph.get_graph().draw_mermaid_png()))\n",
    "\n",
    "\n",
    "#compiled_graph.invoke({\"messages\":[\"Hello, how can I help you today?\"]})\n",
    "\n",
    "\n"
   ]
  },
  {
   "cell_type": "code",
   "execution_count": 12,
   "id": "adc2416d",
   "metadata": {},
   "outputs": [
    {
     "data": {
      "text/plain": [
       "{'messages': [HumanMessage(content='Hello, how can I help you today?', additional_kwargs={}, response_metadata={}, id='bfea7d1b-89e9-46eb-b262-7436b24083e0'),\n",
       "  AIMessage(content=\"Thank you for asking! I'm an AI, so I don't have any specific tasks or requests, but I'm here to chat with you and help with any questions or topics you'd like to discuss.\\n\\nIf you're feeling stuck or need help with something, I can assist with:\\n\\n* Answering questions on a wide range of topics\\n* Providing information on various subjects\\n* Giving suggestions or recommendations\\n* Engaging in fun conversations or debates\\n* Even helping with language-related tasks, such as writing or proofreading\\n\\nSo, feel free to ask me anything that's on your mind, and I'll do my best to help or chat with you!\", additional_kwargs={}, response_metadata={'token_usage': {'completion_tokens': 134, 'prompt_tokens': 19, 'total_tokens': 153, 'completion_time': 0.095330681, 'prompt_time': 0.002754266, 'queue_time': 0.068801427, 'total_time': 0.098084947}, 'model_name': 'llama3-8b-8192', 'system_fingerprint': 'fp_2717d04279', 'finish_reason': 'stop', 'logprobs': None}, id='run-015aa3a0-523c-41b9-ae10-81507e04f03a-0', usage_metadata={'input_tokens': 19, 'output_tokens': 134, 'total_tokens': 153})]}"
      ]
     },
     "execution_count": 12,
     "metadata": {},
     "output_type": "execute_result"
    }
   ],
   "source": [
    "##Invocation \n",
    "\n",
    "compiled_graph.invoke({\"messages\":[\"Hello, how can I help you today?\"]})"
   ]
  },
  {
   "cell_type": "markdown",
   "id": "b720149a",
   "metadata": {},
   "source": [
    "###Streaming teh responses "
   ]
  },
  {
   "cell_type": "code",
   "execution_count": 15,
   "id": "b27c908f",
   "metadata": {},
   "outputs": [
    {
     "name": "stdout",
     "output_type": "stream",
     "text": [
      "{'messages': [HumanMessage(content='Hey, how are you?', additional_kwargs={}, response_metadata={}, id='797d13d7-f0ae-40dc-b828-38d4f4976818')]}\n",
      "{'messages': [HumanMessage(content='Hey, how are you?', additional_kwargs={}, response_metadata={}, id='797d13d7-f0ae-40dc-b828-38d4f4976818'), AIMessage(content=\"I'm just a language model, I don't have feelings like humans do, but I'm functioning properly and ready to assist you with any questions or tasks you may have! How about you? How's your day going so far?\", additional_kwargs={}, response_metadata={'token_usage': {'completion_tokens': 48, 'prompt_tokens': 16, 'total_tokens': 64, 'completion_time': 0.072656625, 'prompt_time': 0.004144809, 'queue_time': 0.06419736, 'total_time': 0.076801434}, 'model_name': 'llama3-8b-8192', 'system_fingerprint': 'fp_8dc6ecaf8e', 'finish_reason': 'stop', 'logprobs': None}, id='run-4d5c540b-bf8a-44a2-914a-564fbdfb997b-0', usage_metadata={'input_tokens': 16, 'output_tokens': 48, 'total_tokens': 64})]}\n"
     ]
    }
   ],
   "source": [
    "for event in compiled_graph.stream({\"messages\":\"Hey, how are you?\"},stream_mode=\"values\"):\n",
    "    print(event)"
   ]
  },
  {
   "cell_type": "code",
   "execution_count": null,
   "id": "b7c91d12",
   "metadata": {},
   "outputs": [],
   "source": []
  },
  {
   "cell_type": "code",
   "execution_count": null,
   "id": "b24f76df",
   "metadata": {},
   "outputs": [],
   "source": []
  },
  {
   "cell_type": "code",
   "execution_count": null,
   "id": "5e0eae95",
   "metadata": {},
   "outputs": [],
   "source": []
  }
 ],
 "metadata": {
  "kernelspec": {
   "display_name": "Course_Requirement",
   "language": "python",
   "name": "python3"
  },
  "language_info": {
   "codemirror_mode": {
    "name": "ipython",
    "version": 3
   },
   "file_extension": ".py",
   "mimetype": "text/x-python",
   "name": "python",
   "nbconvert_exporter": "python",
   "pygments_lexer": "ipython3",
   "version": "3.12.0"
  }
 },
 "nbformat": 4,
 "nbformat_minor": 5
}
